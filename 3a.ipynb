{
  "nbformat": 4,
  "nbformat_minor": 0,
  "metadata": {
    "colab": {
      "provenance": []
    },
    "kernelspec": {
      "name": "python3",
      "display_name": "Python 3"
    },
    "language_info": {
      "name": "python"
    }
  },
  "cells": [
    {
      "cell_type": "code",
      "execution_count": 1,
      "metadata": {
        "colab": {
          "base_uri": "https://localhost:8080/",
          "height": 1000
        },
        "id": "3bvPE5arO121",
        "outputId": "e0d34ca0-aed6-402d-9694-5ec8cf37c9f8"
      },
      "outputs": [
        {
          "output_type": "stream",
          "name": "stdout",
          "text": [
            "t: 0.000 s, Suhu rata-rata: 21.00 Celcius\n",
            "t: 0.000 s, Suhu rata-rata: 21.00 Celcius\n",
            "t: 0.000 s, Suhu rata-rata: 21.00 Celcius\n",
            "t: 0.000 s, Suhu rata-rata: 21.00 Celcius\n",
            "t: 0.000 s, Suhu rata-rata: 21.00 Celcius\n",
            "t: 0.000 s, Suhu rata-rata: 21.00 Celcius\n",
            "t: 0.000 s, Suhu rata-rata: 21.00 Celcius\n",
            "t: 0.000 s, Suhu rata-rata: 21.00 Celcius\n",
            "t: 0.000 s, Suhu rata-rata: 21.00 Celcius\n",
            "t: 0.000 s, Suhu rata-rata: 21.00 Celcius\n",
            "t: 0.000 s, Suhu rata-rata: 21.00 Celcius\n",
            "t: 0.000 s, Suhu rata-rata: 21.00 Celcius\n",
            "t: 0.000 s, Suhu rata-rata: 21.00 Celcius\n",
            "t: 0.000 s, Suhu rata-rata: 21.00 Celcius\n",
            "t: 0.000 s, Suhu rata-rata: 21.00 Celcius\n",
            "t: 0.000 s, Suhu rata-rata: 21.00 Celcius\n",
            "t: 0.000 s, Suhu rata-rata: 21.00 Celcius\n",
            "t: 0.000 s, Suhu rata-rata: 21.00 Celcius\n",
            "t: 0.000 s, Suhu rata-rata: 21.00 Celcius\n",
            "t: 0.000 s, Suhu rata-rata: 21.00 Celcius\n",
            "t: 0.000 s, Suhu rata-rata: 21.00 Celcius\n",
            "t: 0.000 s, Suhu rata-rata: 21.00 Celcius\n",
            "t: 0.000 s, Suhu rata-rata: 21.00 Celcius\n",
            "t: 0.000 s, Suhu rata-rata: 21.00 Celcius\n",
            "t: 0.000 s, Suhu rata-rata: 21.00 Celcius\n",
            "t: 0.000 s, Suhu rata-rata: 21.00 Celcius\n",
            "t: 0.000 s, Suhu rata-rata: 21.00 Celcius\n",
            "t: 0.000 s, Suhu rata-rata: 21.00 Celcius\n",
            "t: 0.000 s, Suhu rata-rata: 21.00 Celcius\n",
            "t: 0.000 s, Suhu rata-rata: 21.00 Celcius\n",
            "t: 0.000 s, Suhu rata-rata: 21.00 Celcius\n",
            "t: 0.000 s, Suhu rata-rata: 21.00 Celcius\n",
            "t: 0.000 s, Suhu rata-rata: 21.00 Celcius\n",
            "t: 0.000 s, Suhu rata-rata: 21.00 Celcius\n",
            "t: 0.000 s, Suhu rata-rata: 21.00 Celcius\n",
            "t: 0.000 s, Suhu rata-rata: 21.00 Celcius\n",
            "t: 0.000 s, Suhu rata-rata: 21.00 Celcius\n",
            "t: 0.000 s, Suhu rata-rata: 21.00 Celcius\n",
            "t: 0.000 s, Suhu rata-rata: 21.00 Celcius\n",
            "t: 0.000 s, Suhu rata-rata: 21.00 Celcius\n",
            "t: 0.000 s, Suhu rata-rata: 21.00 Celcius\n",
            "t: 0.000 s, Suhu rata-rata: 21.00 Celcius\n",
            "t: 0.000 s, Suhu rata-rata: 21.00 Celcius\n",
            "t: 0.000 s, Suhu rata-rata: 21.00 Celcius\n",
            "t: 0.000 s, Suhu rata-rata: 21.00 Celcius\n",
            "t: 0.000 s, Suhu rata-rata: 21.00 Celcius\n",
            "t: 0.000 s, Suhu rata-rata: 21.00 Celcius\n",
            "t: 0.000 s, Suhu rata-rata: 21.80 Celcius\n"
          ]
        },
        {
          "output_type": "display_data",
          "data": {
            "text/plain": [
              "<Figure size 640x480 with 2 Axes>"
            ],
            "image/png": "[encoded data removed]"
          },
          "metadata": {}
        }
      ],
      "source": [
        "import numpy as np\n",
        "import matplotlib.pyplot as plt\n",
        "\n",
        "# Mendefinisikan Variabel\n",
        "a = 500  # Koefisien Difusivitas Termal [m^2/s]\n",
        "panjang = 2.5  # Panjang plat [m]\n",
        "waktu = 1  # Waktu simulasi [s]\n",
        "node = 50  # Jumlah titik grid\n",
        "\n",
        "dx = panjang / node  # Jarak antar titik grid [m]\n",
        "dt = 0.5 * dx ** 2 / a  # Ukuran waktu simulasi [s]\n",
        "t_n = int(waktu / dt)  # Jumlah iterasi simulasi\n",
        "u = np.zeros(node) + 20  # Suhu awal plat [degC]\n",
        "\n",
        "# Kondisi Batas\n",
        "u[0] = 0  # Suhu ujung kiri plat [degC]\n",
        "u[-1] = 100  # Suhu ujung kanan plat [degC]\n",
        "\n",
        "# Visualisasi\n",
        "fig, ax = plt.subplots()\n",
        "ax.set_xlabel(\"x (cm)\")\n",
        "pcm = ax.pcolormesh([u], cmap=plt.cm.jet, vmin=0, vmax=100)  # Plot distribusi\n",
        "plt.colorbar(pcm, ax=ax)\n",
        "ax.set_ylim([-2, 3])  # Batas skala y\n",
        "\n",
        "w = u.copy()  # Menyalin data suhu untuk perhitungan\n",
        "counter = 0  # Inisialisasi variabel counter\n",
        "for i in range(1, node - 1):  # Melooping setiap titik grid kecuali batas\n",
        "    u[i] = (dt * a * (w[i - 1] - 2 * w[i] + w[i + 1]) / dx ** 2) + w[i]  # Perhitungan\n",
        "    counter += dt  # Menambah waktu simulasi\n",
        "    print(\"t: {:.3f} s, Suhu rata-rata: {:.2f} Celcius\".format(counter, np.mean(u)))\n",
        "\n",
        "# Memperbarui plot\n",
        "pcm.set_array([u])\n",
        "ax.set_title(\"Distribusi Suhu pada t: {:.3f} s\".format(counter))\n",
        "\n",
        "plt.show()"
      ]
    }
  ]
}